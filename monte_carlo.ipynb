{
 "cells": [
  {
   "cell_type": "code",
   "execution_count": null,
   "metadata": {
    "id": "JFYuz8L3hkql"
   },
   "outputs": [],
   "source": [
    "import random\n",
    "import numpy as np\n",
    "import matplotlib.pyplot as plt"
   ]
  },
  {
   "cell_type": "code",
   "execution_count": null,
   "metadata": {
    "id": "C0J65LNPh-yg"
   },
   "outputs": [],
   "source": [
    "def dice_roll():\n",
    "    return random.randint(1,6) "
   ]
  },
  {
   "cell_type": "code",
   "execution_count": null,
   "metadata": {
    "colab": {
     "base_uri": "https://localhost:8080/"
    },
    "id": "sMr2dqDUiDBj",
    "outputId": "45d074d8-c224-478f-ff51-838902177be8"
   },
   "outputs": [],
   "source": [
    "dice_roll()"
   ]
  },
  {
   "cell_type": "code",
   "execution_count": null,
   "metadata": {
    "id": "UUF9uvGviEog"
   },
   "outputs": [],
   "source": [
    "list1 = []\n",
    "\n",
    "def monte_carlo(n):\n",
    "    results = 0\n",
    "    for i in range(n):\n",
    "        flip_result = dice_roll()\n",
    "        if flip_result == 2:\n",
    "          results += 1\n",
    "          prob_value = results/(i+1)\n",
    "          list1.append(prob_value)\n",
    "\n",
    "        # #Plot the results :\n",
    "        plt.axhline(y=0.16667, color='r', linestyle='-')\n",
    "        plt.xlabel(\"Iterations\")\n",
    "        plt.ylabel(\"Probability\")\n",
    "        plt.plot(list1)\n",
    "       \n",
    "    return results/n"
   ]
  },
  {
   "cell_type": "code",
   "execution_count": null,
   "metadata": {
    "id": "XVBTHVCEiXUI"
   },
   "outputs": [],
   "source": [
    "answer = monte_carlo(1000)\n",
    "print(\"Final value :\",answer)"
   ]
  },
  {
   "cell_type": "code",
   "execution_count": null,
   "metadata": {},
   "outputs": [],
   "source": []
  }
 ],
 "metadata": {
  "colab": {
   "provenance": []
  },
  "kernelspec": {
   "display_name": "Python 3 (ipykernel)",
   "language": "python",
   "name": "python3"
  },
  "language_info": {
   "codemirror_mode": {
    "name": "ipython",
    "version": 3
   },
   "file_extension": ".py",
   "mimetype": "text/x-python",
   "name": "python",
   "nbconvert_exporter": "python",
   "pygments_lexer": "ipython3",
   "version": "3.10.6"
  }
 },
 "nbformat": 4,
 "nbformat_minor": 1
}
