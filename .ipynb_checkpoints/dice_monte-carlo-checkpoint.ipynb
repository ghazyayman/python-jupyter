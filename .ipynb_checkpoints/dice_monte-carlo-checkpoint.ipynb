{
 "cells": [
  {
   "cell_type": "code",
   "execution_count": 5,
   "id": "9b7cf4dd",
   "metadata": {},
   "outputs": [
    {
     "ename": "SyntaxError",
     "evalue": "unterminated string literal (detected at line 28) (1279157413.py, line 28)",
     "output_type": "error",
     "traceback": [
      "\u001b[0;36m  File \u001b[0;32m\"/tmp/ipykernel_8196/1279157413.py\"\u001b[0;36m, line \u001b[0;32m28\u001b[0m\n\u001b[0;31m    plt.title(\"Monte Carlo Dice Game [\" + str(num_simulations) + \"\u001b[0m\n\u001b[0m                                                                 ^\u001b[0m\n\u001b[0;31mSyntaxError\u001b[0m\u001b[0;31m:\u001b[0m unterminated string literal (detected at line 28)\n"
     ]
    }
   ],
   "source": [
    "# Importing Packages\n",
    "import matplotlib.pyplot as plt\n",
    "import random\n",
    "\n",
    "# Creating Roll Dice Function\n",
    "def roll_dice():\n",
    "    die_1 = random.randint(1, 6)\n",
    "    die_2 = random.randint(1, 6)\n",
    "\n",
    "    # Determining if the dice are the same number\n",
    "    if die_1 == die_2:\n",
    "        same_num = True\n",
    "    else:\n",
    "        same_num = False\n",
    "    return same_num\n",
    "\n",
    "# Inputs\n",
    "num_simulations = 10000\n",
    "max_num_rolls = 1000\n",
    "bet = 1\n",
    "\n",
    "# Tracking\n",
    "win_probability = []\n",
    "end_balance = []\n",
    "\n",
    "# Creating Figure for Simulation Balances\n",
    "fig = plt.figure()\n",
    "plt.title(\"Monte Carlo Dice Game [\" + str(num_simulations) + \"   \n",
    "          simulations]\")\n",
    "plt.xlabel(\"Roll Number\")\n",
    "plt.ylabel(\"Balance [$]\")\n",
    "plt.xlim([0, max_num_rolls])\n",
    "          \n",
    "# For loop to run for the number of simulations desired\n",
    "for i in range(num_simulations):\n",
    "    balance = [1000]\n",
    "    num_rolls = [0]\n",
    "    num_wins = 0\n",
    "    # Run until the player has rolled 1,000 times\n",
    "    while num_rolls[-1] < max_num_rolls:\n",
    "        same = roll_dice()\n",
    "        # Result if the dice are the same number\n",
    "        if same:\n",
    "            balance.append(balance[-1] + 4 * bet)\n",
    "            num_wins += 1\n",
    "        # Result if the dice are different numbers\n",
    "        else:\n",
    "            balance.append(balance[-1] - bet)\n",
    "\n",
    "        num_rolls.append(num_rolls[-1] + 1)\n",
    "# Store tracking variables and add line to figure\n",
    "    win_probability.append(num_wins/num_rolls[-1])\n",
    "    end_balance.append(balance[-1])\n",
    "    plt.plot(num_rolls, balance)\n",
    "          \n",
    "# Showing the plot after the simulations are finished\n",
    "plt.show()\n",
    "\n",
    "# Averaging win probability and end balance\n",
    "overall_win_probability = sum(win_probability)/len(win_probability)\n",
    "overall_end_balance = sum(end_balance)/len(end_balance)\n",
    "# Displaying the averages\n",
    "print(\"Average win probability after \" + str(num_simulations) + \"   \n",
    "       runs: \" + str(overall_win_probability))\n",
    "print(\"Average ending balance after \" + str(num_simulations) + \" \n",
    "       runs: $\" + str(overall_end_balance))"
   ]
  },
  {
   "cell_type": "code",
   "execution_count": 4,
   "id": "e3edf809",
   "metadata": {},
   "outputs": [
    {
     "ename": "SyntaxError",
     "evalue": "unterminated string literal (detected at line 12) (939240872.py, line 12)",
     "output_type": "error",
     "traceback": [
      "\u001b[0;36m  File \u001b[0;32m\"/tmp/ipykernel_8196/939240872.py\"\u001b[0;36m, line \u001b[0;32m12\u001b[0m\n\u001b[0;31m    plt.title(\"Monte Carlo Dice Game [\" + str(num_simulations) + \"\u001b[0m\n\u001b[0m                                                                 ^\u001b[0m\n\u001b[0;31mSyntaxError\u001b[0m\u001b[0;31m:\u001b[0m unterminated string literal (detected at line 12)\n"
     ]
    }
   ],
   "source": [
    "\n"
   ]
  },
  {
   "cell_type": "code",
   "execution_count": null,
   "id": "3c7896ff",
   "metadata": {},
   "outputs": [],
   "source": []
  }
 ],
 "metadata": {
  "kernelspec": {
   "display_name": "Python 3 (ipykernel)",
   "language": "python",
   "name": "python3"
  },
  "language_info": {
   "codemirror_mode": {
    "name": "ipython",
    "version": 3
   },
   "file_extension": ".py",
   "mimetype": "text/x-python",
   "name": "python",
   "nbconvert_exporter": "python",
   "pygments_lexer": "ipython3",
   "version": "3.10.6"
  }
 },
 "nbformat": 4,
 "nbformat_minor": 5
}
