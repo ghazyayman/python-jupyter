{
 "cells": [
  {
   "cell_type": "code",
   "execution_count": 16,
   "id": "dc05f9aa",
   "metadata": {},
   "outputs": [
    {
     "data": {
      "image/png": "[encoded data removed]",
      "text/plain": [
       "<Figure size 432x288 with 1 Axes>"
      ]
     },
     "metadata": {
      "needs_background": "light"
     },
     "output_type": "display_data"
    }
   ],
   "source": [
    "# import the required libraries \n",
    "import random \n",
    "import matplotlib.pyplot as plt \n",
    "    \n",
    "# store the random numbers in a list \n",
    "nums = [] \n",
    "alpha = 9\n",
    "beta = 0.9\n",
    "    \n",
    "for i in range(10000): \n",
    "    temp = random.gammavariate(alpha, beta)\n",
    "    nums.append(temp) \n",
    "        \n",
    "# plotting a graph \n",
    "plt.hist(nums, bins = 200) \n",
    "plt.show()"
   ]
  },
  {
   "cell_type": "code",
   "execution_count": null,
   "id": "3f0373ca",
   "metadata": {},
   "outputs": [],
   "source": []
  },
  {
   "cell_type": "code",
   "execution_count": null,
   "id": "aea1db27",
   "metadata": {},
   "outputs": [],
   "source": []
  },
  {
   "cell_type": "code",
   "execution_count": null,
   "id": "cb3fd316",
   "metadata": {},
   "outputs": [],
   "source": []
  }
 ],
 "metadata": {
  "kernelspec": {
   "display_name": "Python 3 (ipykernel)",
   "language": "python",
   "name": "python3"
  },
  "language_info": {
   "codemirror_mode": {
    "name": "ipython",
    "version": 3
   },
   "file_extension": ".py",
   "mimetype": "text/x-python",
   "name": "python",
   "nbconvert_exporter": "python",
   "pygments_lexer": "ipython3",
   "version": "3.10.4"
  }
 },
 "nbformat": 4,
 "nbformat_minor": 5
}
